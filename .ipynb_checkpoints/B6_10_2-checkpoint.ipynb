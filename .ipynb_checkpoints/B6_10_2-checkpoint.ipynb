{
 "cells": [
  {
   "cell_type": "markdown",
   "id": "c46ae993-7072-4a19-ba00-a47c05f49a05",
   "metadata": {},
   "source": [
    "Напишите код для описания геометрической фигуры.  Создайте  класс  «Прямоугольник» с помощью метода  __init__(). На выходе в консоли вам необходимо получить длину и ширину с итоговым значением. "
   ]
  },
  {
   "cell_type": "code",
   "execution_count": 1,
   "id": "43bf44d4-ee7f-4ce8-b730-42b9ff1fadd7",
   "metadata": {},
   "outputs": [
    {
     "name": "stdout",
     "output_type": "stream",
     "text": [
      "120\n"
     ]
    }
   ],
   "source": [
    "class Rectangle():\n",
    "    def __init__(self, l, w):\n",
    "        self.length = l\n",
    "        self.width = w\n",
    "        \n",
    "    def rectangle_area(self):\n",
    "        return self.length * self.width\n",
    "    \n",
    "    \n",
    "newRectangle = Rectangle(12, 10)\n",
    "print(newRectangle.rectangle_area())"
   ]
  },
  {
   "cell_type": "code",
   "execution_count": null,
   "id": "cd0404dc-77c8-40ab-875b-55bd85c56189",
   "metadata": {},
   "outputs": [],
   "source": []
  }
 ],
 "metadata": {
  "kernelspec": {
   "display_name": "Python 3",
   "language": "python",
   "name": "python3"
  },
  "language_info": {
   "codemirror_mode": {
    "name": "ipython",
    "version": 3
   },
   "file_extension": ".py",
   "mimetype": "text/x-python",
   "name": "python",
   "nbconvert_exporter": "python",
   "pygments_lexer": "ipython3",
   "version": "3.8.5"
  }
 },
 "nbformat": 4,
 "nbformat_minor": 5
}
